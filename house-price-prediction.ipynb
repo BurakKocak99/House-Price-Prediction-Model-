{
 "cells": [
  {
   "cell_type": "markdown",
   "id": "f55ea9a0",
   "metadata": {
    "papermill": {
     "duration": 0.028583,
     "end_time": "2021-08-16T19:09:33.102664",
     "exception": false,
     "start_time": "2021-08-16T19:09:33.074081",
     "status": "completed"
    },
    "tags": []
   },
   "source": [
    "## House Price Predictions"
   ]
  },
  {
   "cell_type": "markdown",
   "id": "c4a6d286",
   "metadata": {
    "papermill": {
     "duration": 0.027154,
     "end_time": "2021-08-16T19:09:33.157218",
     "exception": false,
     "start_time": "2021-08-16T19:09:33.130064",
     "status": "completed"
    },
    "tags": []
   },
   "source": [
    "## Imports"
   ]
  },
  {
   "cell_type": "code",
   "execution_count": 1,
   "id": "b5cb5bd5",
   "metadata": {
    "_kg_hide-input": true,
    "_kg_hide-output": true,
    "execution": {
     "iopub.execute_input": "2021-08-16T19:09:33.224838Z",
     "iopub.status.busy": "2021-08-16T19:09:33.224117Z",
     "iopub.status.idle": "2021-08-16T19:09:34.749492Z",
     "shell.execute_reply": "2021-08-16T19:09:34.748497Z",
     "shell.execute_reply.started": "2021-08-16T18:52:10.116076Z"
    },
    "papermill": {
     "duration": 1.565307,
     "end_time": "2021-08-16T19:09:34.749659",
     "exception": false,
     "start_time": "2021-08-16T19:09:33.184352",
     "status": "completed"
    },
    "tags": []
   },
   "outputs": [],
   "source": [
    "import os\n",
    "import warnings\n",
    "from pathlib import Path\n",
    "import matplotlib.pyplot as plt\n",
    "import numpy as np\n",
    "import pandas as pd\n",
    "import seaborn as sns\n",
    "from IPython.display import display\n",
    "from pandas.api.types import CategoricalDtype\n",
    "from category_encoders import MEstimateEncoder\n",
    "from sklearn.cluster import KMeans\n",
    "from sklearn.decomposition import PCA\n",
    "from sklearn.feature_selection import mutual_info_regression\n",
    "from sklearn.model_selection import KFold, cross_val_score\n",
    "from xgboost import XGBRegressor\n",
    "from sklearn.model_selection import train_test_split"
   ]
  },
  {
   "cell_type": "markdown",
   "id": "36c9cb13",
   "metadata": {
    "papermill": {
     "duration": 0.026527,
     "end_time": "2021-08-16T19:09:34.803303",
     "exception": false,
     "start_time": "2021-08-16T19:09:34.776776",
     "status": "completed"
    },
    "tags": []
   },
   "source": [
    "## Loading the Data"
   ]
  },
  {
   "cell_type": "code",
   "execution_count": 2,
   "id": "8246a6a8",
   "metadata": {
    "execution": {
     "iopub.execute_input": "2021-08-16T19:09:34.865359Z",
     "iopub.status.busy": "2021-08-16T19:09:34.864803Z",
     "iopub.status.idle": "2021-08-16T19:09:34.939624Z",
     "shell.execute_reply": "2021-08-16T19:09:34.939182Z",
     "shell.execute_reply.started": "2021-08-16T18:52:11.419734Z"
    },
    "papermill": {
     "duration": 0.105956,
     "end_time": "2021-08-16T19:09:34.939744",
     "exception": false,
     "start_time": "2021-08-16T19:09:34.833788",
     "status": "completed"
    },
    "tags": []
   },
   "outputs": [],
   "source": [
    "train_df = pd.read_csv(\"../input/house-prices-advanced-regression-techniques/train.csv\",index_col = \"Id\")\n",
    "test_df = pd.read_csv(\"../input/house-prices-advanced-regression-techniques/test.csv\",index_col = \"Id\")"
   ]
  },
  {
   "cell_type": "code",
   "execution_count": 3,
   "id": "9f383ebf",
   "metadata": {
    "execution": {
     "iopub.execute_input": "2021-08-16T19:09:35.002198Z",
     "iopub.status.busy": "2021-08-16T19:09:35.001572Z",
     "iopub.status.idle": "2021-08-16T19:09:35.026213Z",
     "shell.execute_reply": "2021-08-16T19:09:35.026605Z",
     "shell.execute_reply.started": "2021-08-16T18:52:11.494214Z"
    },
    "papermill": {
     "duration": 0.060152,
     "end_time": "2021-08-16T19:09:35.026726",
     "exception": false,
     "start_time": "2021-08-16T19:09:34.966574",
     "status": "completed"
    },
    "tags": []
   },
   "outputs": [
    {
     "data": {
      "text/html": [
       "<div>\n",
       "<style scoped>\n",
       "    .dataframe tbody tr th:only-of-type {\n",
       "        vertical-align: middle;\n",
       "    }\n",
       "\n",
       "    .dataframe tbody tr th {\n",
       "        vertical-align: top;\n",
       "    }\n",
       "\n",
       "    .dataframe thead th {\n",
       "        text-align: right;\n",
       "    }\n",
       "</style>\n",
       "<table border=\"1\" class=\"dataframe\">\n",
       "  <thead>\n",
       "    <tr style=\"text-align: right;\">\n",
       "      <th></th>\n",
       "      <th>MSSubClass</th>\n",
       "      <th>MSZoning</th>\n",
       "      <th>LotFrontage</th>\n",
       "      <th>LotArea</th>\n",
       "      <th>Street</th>\n",
       "      <th>Alley</th>\n",
       "      <th>LotShape</th>\n",
       "      <th>LandContour</th>\n",
       "      <th>Utilities</th>\n",
       "      <th>LotConfig</th>\n",
       "      <th>...</th>\n",
       "      <th>PoolArea</th>\n",
       "      <th>PoolQC</th>\n",
       "      <th>Fence</th>\n",
       "      <th>MiscFeature</th>\n",
       "      <th>MiscVal</th>\n",
       "      <th>MoSold</th>\n",
       "      <th>YrSold</th>\n",
       "      <th>SaleType</th>\n",
       "      <th>SaleCondition</th>\n",
       "      <th>SalePrice</th>\n",
       "    </tr>\n",
       "    <tr>\n",
       "      <th>Id</th>\n",
       "      <th></th>\n",
       "      <th></th>\n",
       "      <th></th>\n",
       "      <th></th>\n",
       "      <th></th>\n",
       "      <th></th>\n",
       "      <th></th>\n",
       "      <th></th>\n",
       "      <th></th>\n",
       "      <th></th>\n",
       "      <th></th>\n",
       "      <th></th>\n",
       "      <th></th>\n",
       "      <th></th>\n",
       "      <th></th>\n",
       "      <th></th>\n",
       "      <th></th>\n",
       "      <th></th>\n",
       "      <th></th>\n",
       "      <th></th>\n",
       "      <th></th>\n",
       "    </tr>\n",
       "  </thead>\n",
       "  <tbody>\n",
       "    <tr>\n",
       "      <th>1</th>\n",
       "      <td>60</td>\n",
       "      <td>RL</td>\n",
       "      <td>65.0</td>\n",
       "      <td>8450</td>\n",
       "      <td>Pave</td>\n",
       "      <td>NaN</td>\n",
       "      <td>Reg</td>\n",
       "      <td>Lvl</td>\n",
       "      <td>AllPub</td>\n",
       "      <td>Inside</td>\n",
       "      <td>...</td>\n",
       "      <td>0</td>\n",
       "      <td>NaN</td>\n",
       "      <td>NaN</td>\n",
       "      <td>NaN</td>\n",
       "      <td>0</td>\n",
       "      <td>2</td>\n",
       "      <td>2008</td>\n",
       "      <td>WD</td>\n",
       "      <td>Normal</td>\n",
       "      <td>208500</td>\n",
       "    </tr>\n",
       "    <tr>\n",
       "      <th>2</th>\n",
       "      <td>20</td>\n",
       "      <td>RL</td>\n",
       "      <td>80.0</td>\n",
       "      <td>9600</td>\n",
       "      <td>Pave</td>\n",
       "      <td>NaN</td>\n",
       "      <td>Reg</td>\n",
       "      <td>Lvl</td>\n",
       "      <td>AllPub</td>\n",
       "      <td>FR2</td>\n",
       "      <td>...</td>\n",
       "      <td>0</td>\n",
       "      <td>NaN</td>\n",
       "      <td>NaN</td>\n",
       "      <td>NaN</td>\n",
       "      <td>0</td>\n",
       "      <td>5</td>\n",
       "      <td>2007</td>\n",
       "      <td>WD</td>\n",
       "      <td>Normal</td>\n",
       "      <td>181500</td>\n",
       "    </tr>\n",
       "    <tr>\n",
       "      <th>3</th>\n",
       "      <td>60</td>\n",
       "      <td>RL</td>\n",
       "      <td>68.0</td>\n",
       "      <td>11250</td>\n",
       "      <td>Pave</td>\n",
       "      <td>NaN</td>\n",
       "      <td>IR1</td>\n",
       "      <td>Lvl</td>\n",
       "      <td>AllPub</td>\n",
       "      <td>Inside</td>\n",
       "      <td>...</td>\n",
       "      <td>0</td>\n",
       "      <td>NaN</td>\n",
       "      <td>NaN</td>\n",
       "      <td>NaN</td>\n",
       "      <td>0</td>\n",
       "      <td>9</td>\n",
       "      <td>2008</td>\n",
       "      <td>WD</td>\n",
       "      <td>Normal</td>\n",
       "      <td>223500</td>\n",
       "    </tr>\n",
       "    <tr>\n",
       "      <th>4</th>\n",
       "      <td>70</td>\n",
       "      <td>RL</td>\n",
       "      <td>60.0</td>\n",
       "      <td>9550</td>\n",
       "      <td>Pave</td>\n",
       "      <td>NaN</td>\n",
       "      <td>IR1</td>\n",
       "      <td>Lvl</td>\n",
       "      <td>AllPub</td>\n",
       "      <td>Corner</td>\n",
       "      <td>...</td>\n",
       "      <td>0</td>\n",
       "      <td>NaN</td>\n",
       "      <td>NaN</td>\n",
       "      <td>NaN</td>\n",
       "      <td>0</td>\n",
       "      <td>2</td>\n",
       "      <td>2006</td>\n",
       "      <td>WD</td>\n",
       "      <td>Abnorml</td>\n",
       "      <td>140000</td>\n",
       "    </tr>\n",
       "    <tr>\n",
       "      <th>5</th>\n",
       "      <td>60</td>\n",
       "      <td>RL</td>\n",
       "      <td>84.0</td>\n",
       "      <td>14260</td>\n",
       "      <td>Pave</td>\n",
       "      <td>NaN</td>\n",
       "      <td>IR1</td>\n",
       "      <td>Lvl</td>\n",
       "      <td>AllPub</td>\n",
       "      <td>FR2</td>\n",
       "      <td>...</td>\n",
       "      <td>0</td>\n",
       "      <td>NaN</td>\n",
       "      <td>NaN</td>\n",
       "      <td>NaN</td>\n",
       "      <td>0</td>\n",
       "      <td>12</td>\n",
       "      <td>2008</td>\n",
       "      <td>WD</td>\n",
       "      <td>Normal</td>\n",
       "      <td>250000</td>\n",
       "    </tr>\n",
       "  </tbody>\n",
       "</table>\n",
       "<p>5 rows × 80 columns</p>\n",
       "</div>"
      ],
      "text/plain": [
       "    MSSubClass MSZoning  LotFrontage  LotArea Street Alley LotShape  \\\n",
       "Id                                                                    \n",
       "1           60       RL         65.0     8450   Pave   NaN      Reg   \n",
       "2           20       RL         80.0     9600   Pave   NaN      Reg   \n",
       "3           60       RL         68.0    11250   Pave   NaN      IR1   \n",
       "4           70       RL         60.0     9550   Pave   NaN      IR1   \n",
       "5           60       RL         84.0    14260   Pave   NaN      IR1   \n",
       "\n",
       "   LandContour Utilities LotConfig  ... PoolArea PoolQC Fence MiscFeature  \\\n",
       "Id                                  ...                                     \n",
       "1          Lvl    AllPub    Inside  ...        0    NaN   NaN         NaN   \n",
       "2          Lvl    AllPub       FR2  ...        0    NaN   NaN         NaN   \n",
       "3          Lvl    AllPub    Inside  ...        0    NaN   NaN         NaN   \n",
       "4          Lvl    AllPub    Corner  ...        0    NaN   NaN         NaN   \n",
       "5          Lvl    AllPub       FR2  ...        0    NaN   NaN         NaN   \n",
       "\n",
       "   MiscVal MoSold  YrSold  SaleType  SaleCondition  SalePrice  \n",
       "Id                                                             \n",
       "1        0      2    2008        WD         Normal     208500  \n",
       "2        0      5    2007        WD         Normal     181500  \n",
       "3        0      9    2008        WD         Normal     223500  \n",
       "4        0      2    2006        WD        Abnorml     140000  \n",
       "5        0     12    2008        WD         Normal     250000  \n",
       "\n",
       "[5 rows x 80 columns]"
      ]
     },
     "execution_count": 3,
     "metadata": {},
     "output_type": "execute_result"
    }
   ],
   "source": [
    "train_df.head()"
   ]
  },
  {
   "cell_type": "code",
   "execution_count": 4,
   "id": "8d581317",
   "metadata": {
    "execution": {
     "iopub.execute_input": "2021-08-16T19:09:35.094892Z",
     "iopub.status.busy": "2021-08-16T19:09:35.094117Z",
     "iopub.status.idle": "2021-08-16T19:09:35.100263Z",
     "shell.execute_reply": "2021-08-16T19:09:35.100677Z",
     "shell.execute_reply.started": "2021-08-16T18:52:11.529356Z"
    },
    "papermill": {
     "duration": 0.044061,
     "end_time": "2021-08-16T19:09:35.100798",
     "exception": false,
     "start_time": "2021-08-16T19:09:35.056737",
     "status": "completed"
    },
    "tags": []
   },
   "outputs": [
    {
     "data": {
      "text/plain": [
       "MSSubClass         0\n",
       "MSZoning           0\n",
       "LotFrontage      259\n",
       "LotArea            0\n",
       "Street             0\n",
       "                ... \n",
       "MoSold             0\n",
       "YrSold             0\n",
       "SaleType           0\n",
       "SaleCondition      0\n",
       "SalePrice          0\n",
       "Length: 80, dtype: int64"
      ]
     },
     "execution_count": 4,
     "metadata": {},
     "output_type": "execute_result"
    }
   ],
   "source": [
    "train_df.isnull().sum()"
   ]
  },
  {
   "cell_type": "markdown",
   "id": "65a9a322",
   "metadata": {
    "papermill": {
     "duration": 0.02787,
     "end_time": "2021-08-16T19:09:35.156570",
     "exception": false,
     "start_time": "2021-08-16T19:09:35.128700",
     "status": "completed"
    },
    "tags": []
   },
   "source": [
    "## EDA Step"
   ]
  },
  {
   "cell_type": "code",
   "execution_count": 5,
   "id": "7e502f00",
   "metadata": {
    "execution": {
     "iopub.execute_input": "2021-08-16T19:09:35.217509Z",
     "iopub.status.busy": "2021-08-16T19:09:35.216686Z",
     "iopub.status.idle": "2021-08-16T19:09:35.538725Z",
     "shell.execute_reply": "2021-08-16T19:09:35.539151Z",
     "shell.execute_reply.started": "2021-08-16T18:52:11.546219Z"
    },
    "papermill": {
     "duration": 0.355077,
     "end_time": "2021-08-16T19:09:35.539298",
     "exception": false,
     "start_time": "2021-08-16T19:09:35.184221",
     "status": "completed"
    },
    "tags": []
   },
   "outputs": [
    {
     "data": {
      "text/plain": [
       "<AxesSubplot:xlabel='YrSold', ylabel='SalePrice'>"
      ]
     },
     "execution_count": 5,
     "metadata": {},
     "output_type": "execute_result"
    },
    {
     "data": {
      "image/png": "[encoded data removed]",
      "text/plain": [
       "<Figure size 432x288 with 1 Axes>"
      ]
     },
     "metadata": {
      "needs_background": "light"
     },
     "output_type": "display_data"
    }
   ],
   "source": [
    "\n",
    "sns.barplot(x = train_df[\"YrSold\"] , y = train_df[\"SalePrice\"])\n"
   ]
  },
  {
   "cell_type": "code",
   "execution_count": 6,
   "id": "466e5c83",
   "metadata": {
    "execution": {
     "iopub.execute_input": "2021-08-16T19:09:35.601101Z",
     "iopub.status.busy": "2021-08-16T19:09:35.600305Z",
     "iopub.status.idle": "2021-08-16T19:09:36.309957Z",
     "shell.execute_reply": "2021-08-16T19:09:36.310924Z",
     "shell.execute_reply.started": "2021-08-16T18:52:11.886689Z"
    },
    "papermill": {
     "duration": 0.743196,
     "end_time": "2021-08-16T19:09:36.311155",
     "exception": false,
     "start_time": "2021-08-16T19:09:35.567959",
     "status": "completed"
    },
    "tags": []
   },
   "outputs": [
    {
     "data": {
      "text/plain": [
       "<AxesSubplot:xlabel='OverallQual', ylabel='SalePrice'>"
      ]
     },
     "execution_count": 6,
     "metadata": {},
     "output_type": "execute_result"
    },
    {
     "data": {
      "image/png": "[encoded data removed]",
      "text/plain": [
       "<Figure size 432x288 with 1 Axes>"
      ]
     },
     "metadata": {
      "needs_background": "light"
     },
     "output_type": "display_data"
    }
   ],
   "source": [
    "sns.barplot(x = train_df[\"OverallQual\"] , y = train_df[\"SalePrice\"])"
   ]
  },
  {
   "cell_type": "code",
   "execution_count": 7,
   "id": "99de7685",
   "metadata": {
    "execution": {
     "iopub.execute_input": "2021-08-16T19:09:36.406573Z",
     "iopub.status.busy": "2021-08-16T19:09:36.405660Z",
     "iopub.status.idle": "2021-08-16T19:09:36.631675Z",
     "shell.execute_reply": "2021-08-16T19:09:36.631226Z",
     "shell.execute_reply.started": "2021-08-16T18:52:12.456077Z"
    },
    "papermill": {
     "duration": 0.271639,
     "end_time": "2021-08-16T19:09:36.631792",
     "exception": false,
     "start_time": "2021-08-16T19:09:36.360153",
     "status": "completed"
    },
    "tags": []
   },
   "outputs": [
    {
     "data": {
      "text/plain": [
       "<AxesSubplot:xlabel='YearBuilt', ylabel='SalePrice'>"
      ]
     },
     "execution_count": 7,
     "metadata": {},
     "output_type": "execute_result"
    },
    {
     "data": {
      "image/png": "[encoded data removed]",
      "text/plain": [
       "<Figure size 1296x720 with 1 Axes>"
      ]
     },
     "metadata": {
      "needs_background": "light"
     },
     "output_type": "display_data"
    }
   ],
   "source": [
    "plt.figure(figsize=(18,10))\n",
    "\n",
    "sns.scatterplot(x = train_df[\"YearBuilt\"] , y = train_df[\"SalePrice\"])"
   ]
  },
  {
   "cell_type": "markdown",
   "id": "81d83550",
   "metadata": {
    "papermill": {
     "duration": 0.031272,
     "end_time": "2021-08-16T19:09:36.695192",
     "exception": false,
     "start_time": "2021-08-16T19:09:36.663920",
     "status": "completed"
    },
    "tags": []
   },
   "source": [
    "## Search for better features on the data "
   ]
  },
  {
   "cell_type": "code",
   "execution_count": 8,
   "id": "c8b5ba02",
   "metadata": {
    "execution": {
     "iopub.execute_input": "2021-08-16T19:09:36.762399Z",
     "iopub.status.busy": "2021-08-16T19:09:36.761749Z",
     "iopub.status.idle": "2021-08-16T19:09:36.764781Z",
     "shell.execute_reply": "2021-08-16T19:09:36.765159Z",
     "shell.execute_reply.started": "2021-08-16T18:52:12.704474Z"
    },
    "papermill": {
     "duration": 0.038762,
     "end_time": "2021-08-16T19:09:36.765290",
     "exception": false,
     "start_time": "2021-08-16T19:09:36.726528",
     "status": "completed"
    },
    "tags": []
   },
   "outputs": [],
   "source": [
    "def make_mi_scores(X, y, discrete_features):\n",
    "    mi_scores = mutual_info_regression(X, y, discrete_features=discrete_features)\n",
    "    mi_scores = pd.Series(mi_scores, name=\"MI Scores\", index=X.columns)\n",
    "    mi_scores = mi_scores.sort_values(ascending=False)\n",
    "    return mi_scores"
   ]
  },
  {
   "cell_type": "code",
   "execution_count": 9,
   "id": "d39d9223",
   "metadata": {
    "execution": {
     "iopub.execute_input": "2021-08-16T19:09:36.833091Z",
     "iopub.status.busy": "2021-08-16T19:09:36.832318Z",
     "iopub.status.idle": "2021-08-16T19:09:36.896766Z",
     "shell.execute_reply": "2021-08-16T19:09:36.897149Z",
     "shell.execute_reply.started": "2021-08-16T18:52:12.711620Z"
    },
    "papermill": {
     "duration": 0.100784,
     "end_time": "2021-08-16T19:09:36.897283",
     "exception": false,
     "start_time": "2021-08-16T19:09:36.796499",
     "status": "completed"
    },
    "tags": []
   },
   "outputs": [
    {
     "data": {
      "text/html": [
       "<div>\n",
       "<style scoped>\n",
       "    .dataframe tbody tr th:only-of-type {\n",
       "        vertical-align: middle;\n",
       "    }\n",
       "\n",
       "    .dataframe tbody tr th {\n",
       "        vertical-align: top;\n",
       "    }\n",
       "\n",
       "    .dataframe thead th {\n",
       "        text-align: right;\n",
       "    }\n",
       "</style>\n",
       "<table border=\"1\" class=\"dataframe\">\n",
       "  <thead>\n",
       "    <tr style=\"text-align: right;\">\n",
       "      <th></th>\n",
       "      <th>MSSubClass</th>\n",
       "      <th>MSZoning</th>\n",
       "      <th>LotFrontage</th>\n",
       "      <th>LotArea</th>\n",
       "      <th>Street</th>\n",
       "      <th>Alley</th>\n",
       "      <th>LotShape</th>\n",
       "      <th>LandContour</th>\n",
       "      <th>Utilities</th>\n",
       "      <th>LotConfig</th>\n",
       "      <th>...</th>\n",
       "      <th>ScreenPorch</th>\n",
       "      <th>PoolArea</th>\n",
       "      <th>PoolQC</th>\n",
       "      <th>Fence</th>\n",
       "      <th>MiscFeature</th>\n",
       "      <th>MiscVal</th>\n",
       "      <th>MoSold</th>\n",
       "      <th>YrSold</th>\n",
       "      <th>SaleType</th>\n",
       "      <th>SaleCondition</th>\n",
       "    </tr>\n",
       "    <tr>\n",
       "      <th>Id</th>\n",
       "      <th></th>\n",
       "      <th></th>\n",
       "      <th></th>\n",
       "      <th></th>\n",
       "      <th></th>\n",
       "      <th></th>\n",
       "      <th></th>\n",
       "      <th></th>\n",
       "      <th></th>\n",
       "      <th></th>\n",
       "      <th></th>\n",
       "      <th></th>\n",
       "      <th></th>\n",
       "      <th></th>\n",
       "      <th></th>\n",
       "      <th></th>\n",
       "      <th></th>\n",
       "      <th></th>\n",
       "      <th></th>\n",
       "      <th></th>\n",
       "      <th></th>\n",
       "    </tr>\n",
       "  </thead>\n",
       "  <tbody>\n",
       "    <tr>\n",
       "      <th>1</th>\n",
       "      <td>60</td>\n",
       "      <td>0</td>\n",
       "      <td>0</td>\n",
       "      <td>8450</td>\n",
       "      <td>0</td>\n",
       "      <td>0</td>\n",
       "      <td>0</td>\n",
       "      <td>0</td>\n",
       "      <td>0</td>\n",
       "      <td>0</td>\n",
       "      <td>...</td>\n",
       "      <td>0</td>\n",
       "      <td>0</td>\n",
       "      <td>0</td>\n",
       "      <td>0</td>\n",
       "      <td>0</td>\n",
       "      <td>0</td>\n",
       "      <td>2</td>\n",
       "      <td>2008</td>\n",
       "      <td>0</td>\n",
       "      <td>0</td>\n",
       "    </tr>\n",
       "    <tr>\n",
       "      <th>2</th>\n",
       "      <td>20</td>\n",
       "      <td>0</td>\n",
       "      <td>1</td>\n",
       "      <td>9600</td>\n",
       "      <td>0</td>\n",
       "      <td>0</td>\n",
       "      <td>0</td>\n",
       "      <td>0</td>\n",
       "      <td>0</td>\n",
       "      <td>1</td>\n",
       "      <td>...</td>\n",
       "      <td>0</td>\n",
       "      <td>0</td>\n",
       "      <td>0</td>\n",
       "      <td>0</td>\n",
       "      <td>0</td>\n",
       "      <td>0</td>\n",
       "      <td>5</td>\n",
       "      <td>2007</td>\n",
       "      <td>0</td>\n",
       "      <td>0</td>\n",
       "    </tr>\n",
       "    <tr>\n",
       "      <th>3</th>\n",
       "      <td>60</td>\n",
       "      <td>0</td>\n",
       "      <td>2</td>\n",
       "      <td>11250</td>\n",
       "      <td>0</td>\n",
       "      <td>0</td>\n",
       "      <td>1</td>\n",
       "      <td>0</td>\n",
       "      <td>0</td>\n",
       "      <td>0</td>\n",
       "      <td>...</td>\n",
       "      <td>0</td>\n",
       "      <td>0</td>\n",
       "      <td>0</td>\n",
       "      <td>0</td>\n",
       "      <td>0</td>\n",
       "      <td>0</td>\n",
       "      <td>9</td>\n",
       "      <td>2008</td>\n",
       "      <td>0</td>\n",
       "      <td>0</td>\n",
       "    </tr>\n",
       "    <tr>\n",
       "      <th>4</th>\n",
       "      <td>70</td>\n",
       "      <td>0</td>\n",
       "      <td>3</td>\n",
       "      <td>9550</td>\n",
       "      <td>0</td>\n",
       "      <td>0</td>\n",
       "      <td>1</td>\n",
       "      <td>0</td>\n",
       "      <td>0</td>\n",
       "      <td>2</td>\n",
       "      <td>...</td>\n",
       "      <td>0</td>\n",
       "      <td>0</td>\n",
       "      <td>0</td>\n",
       "      <td>0</td>\n",
       "      <td>0</td>\n",
       "      <td>0</td>\n",
       "      <td>2</td>\n",
       "      <td>2006</td>\n",
       "      <td>0</td>\n",
       "      <td>1</td>\n",
       "    </tr>\n",
       "    <tr>\n",
       "      <th>5</th>\n",
       "      <td>60</td>\n",
       "      <td>0</td>\n",
       "      <td>4</td>\n",
       "      <td>14260</td>\n",
       "      <td>0</td>\n",
       "      <td>0</td>\n",
       "      <td>1</td>\n",
       "      <td>0</td>\n",
       "      <td>0</td>\n",
       "      <td>1</td>\n",
       "      <td>...</td>\n",
       "      <td>0</td>\n",
       "      <td>0</td>\n",
       "      <td>0</td>\n",
       "      <td>0</td>\n",
       "      <td>0</td>\n",
       "      <td>0</td>\n",
       "      <td>12</td>\n",
       "      <td>2008</td>\n",
       "      <td>0</td>\n",
       "      <td>0</td>\n",
       "    </tr>\n",
       "  </tbody>\n",
       "</table>\n",
       "<p>5 rows × 79 columns</p>\n",
       "</div>"
      ],
      "text/plain": [
       "    MSSubClass  MSZoning  LotFrontage  LotArea  Street  Alley  LotShape  \\\n",
       "Id                                                                        \n",
       "1           60         0            0     8450       0      0         0   \n",
       "2           20         0            1     9600       0      0         0   \n",
       "3           60         0            2    11250       0      0         1   \n",
       "4           70         0            3     9550       0      0         1   \n",
       "5           60         0            4    14260       0      0         1   \n",
       "\n",
       "    LandContour  Utilities  LotConfig  ...  ScreenPorch  PoolArea  PoolQC  \\\n",
       "Id                                     ...                                  \n",
       "1             0          0          0  ...            0         0       0   \n",
       "2             0          0          1  ...            0         0       0   \n",
       "3             0          0          0  ...            0         0       0   \n",
       "4             0          0          2  ...            0         0       0   \n",
       "5             0          0          1  ...            0         0       0   \n",
       "\n",
       "    Fence  MiscFeature  MiscVal  MoSold  YrSold  SaleType  SaleCondition  \n",
       "Id                                                                        \n",
       "1       0            0        0       2    2008         0              0  \n",
       "2       0            0        0       5    2007         0              0  \n",
       "3       0            0        0       9    2008         0              0  \n",
       "4       0            0        0       2    2006         0              1  \n",
       "5       0            0        0      12    2008         0              0  \n",
       "\n",
       "[5 rows x 79 columns]"
      ]
     },
     "execution_count": 9,
     "metadata": {},
     "output_type": "execute_result"
    }
   ],
   "source": [
    "X = train_df.copy()\n",
    "X = X.fillna(\"Missing\")\n",
    "\n",
    "\n",
    "y = X.pop(\"SalePrice\")\n",
    "\n",
    "\n",
    "\n",
    "# Label encoding for categoricals\n",
    "for colname in X.select_dtypes(\"object\"):\n",
    "    X[colname], _ = X[colname].factorize()\n",
    "\n",
    "# All discrete features should now have integer dtypes (double-check this before using MI!)\n",
    "discrete_features = X.dtypes == int\n",
    "X.head()"
   ]
  },
  {
   "cell_type": "code",
   "execution_count": 10,
   "id": "f5b5c094",
   "metadata": {
    "execution": {
     "iopub.execute_input": "2021-08-16T19:09:36.969226Z",
     "iopub.status.busy": "2021-08-16T19:09:36.968413Z",
     "iopub.status.idle": "2021-08-16T19:09:39.471534Z",
     "shell.execute_reply": "2021-08-16T19:09:39.471939Z",
     "shell.execute_reply.started": "2021-08-16T18:52:12.784752Z"
    },
    "papermill": {
     "duration": 2.542533,
     "end_time": "2021-08-16T19:09:39.472101",
     "exception": false,
     "start_time": "2021-08-16T19:09:36.929568",
     "status": "completed"
    },
    "tags": []
   },
   "outputs": [
    {
     "data": {
      "text/plain": [
       "OverallQual     0.567116\n",
       "Neighborhood    0.526203\n",
       "GarageArea      0.498501\n",
       "GrLivArea       0.431459\n",
       "YearBuilt       0.410751\n",
       "TotalBsmtSF     0.396154\n",
       "LotArea         0.392893\n",
       "GarageCars      0.364345\n",
       "GarageYrBlt     0.344323\n",
       "BsmtQual        0.326514\n",
       "Name: MI Scores, dtype: float64"
      ]
     },
     "execution_count": 10,
     "metadata": {},
     "output_type": "execute_result"
    }
   ],
   "source": [
    "mi_scores = make_mi_scores(X, y, discrete_features)\n",
    "mi_scores[:10]  # show a few features with their MI scores"
   ]
  },
  {
   "cell_type": "code",
   "execution_count": 11,
   "id": "9c967e88",
   "metadata": {
    "execution": {
     "iopub.execute_input": "2021-08-16T19:09:39.546420Z",
     "iopub.status.busy": "2021-08-16T19:09:39.545656Z",
     "iopub.status.idle": "2021-08-16T19:09:39.842233Z",
     "shell.execute_reply": "2021-08-16T19:09:39.842844Z",
     "shell.execute_reply.started": "2021-08-16T18:52:15.737471Z"
    },
    "papermill": {
     "duration": 0.337628,
     "end_time": "2021-08-16T19:09:39.843032",
     "exception": false,
     "start_time": "2021-08-16T19:09:39.505404",
     "status": "completed"
    },
    "tags": []
   },
   "outputs": [
    {
     "data": {
      "text/plain": [
       "<AxesSubplot:xlabel='SalePrice', ylabel='Neighborhood'>"
      ]
     },
     "execution_count": 11,
     "metadata": {},
     "output_type": "execute_result"
    },
    {
     "data": {
      "image/png": "[encoded data removed]",
      "text/plain": [
       "<Figure size 1296x720 with 1 Axes>"
      ]
     },
     "metadata": {
      "needs_background": "light"
     },
     "output_type": "display_data"
    }
   ],
   "source": [
    "plt.figure(figsize=(18,10))\n",
    "sns.scatterplot(x = train_df[\"SalePrice\"], y = train_df[\"Neighborhood\"])"
   ]
  },
  {
   "cell_type": "code",
   "execution_count": 12,
   "id": "8b5d43fd",
   "metadata": {
    "execution": {
     "iopub.execute_input": "2021-08-16T19:09:39.922760Z",
     "iopub.status.busy": "2021-08-16T19:09:39.921931Z",
     "iopub.status.idle": "2021-08-16T19:09:40.278815Z",
     "shell.execute_reply": "2021-08-16T19:09:40.279233Z",
     "shell.execute_reply.started": "2021-08-16T18:52:16.038288Z"
    },
    "papermill": {
     "duration": 0.397862,
     "end_time": "2021-08-16T19:09:40.279379",
     "exception": false,
     "start_time": "2021-08-16T19:09:39.881517",
     "status": "completed"
    },
    "tags": []
   },
   "outputs": [
    {
     "data": {
      "text/plain": [
       "<AxesSubplot:xlabel='GarageArea', ylabel='SalePrice'>"
      ]
     },
     "execution_count": 12,
     "metadata": {},
     "output_type": "execute_result"
    },
    {
     "data": {
      "image/png": "[encoded data removed]",
      "text/plain": [
       "<Figure size 432x288 with 1 Axes>"
      ]
     },
     "metadata": {
      "needs_background": "light"
     },
     "output_type": "display_data"
    }
   ],
   "source": [
    "sns.regplot(x = train_df[\"GarageArea\"] , y = train_df[\"SalePrice\"])"
   ]
  },
  {
   "cell_type": "markdown",
   "id": "0767fc87",
   "metadata": {
    "papermill": {
     "duration": 0.035776,
     "end_time": "2021-08-16T19:09:40.351293",
     "exception": false,
     "start_time": "2021-08-16T19:09:40.315517",
     "status": "completed"
    },
    "tags": []
   },
   "source": [
    "## As we can see, MI scores are handy for feature selection\n",
    "## Now Let's look at the worst MI scored data, and see what we can do to increase their effectiveness  "
   ]
  },
  {
   "cell_type": "code",
   "execution_count": 13,
   "id": "6124e069",
   "metadata": {
    "execution": {
     "iopub.execute_input": "2021-08-16T19:09:40.429306Z",
     "iopub.status.busy": "2021-08-16T19:09:40.428653Z",
     "iopub.status.idle": "2021-08-16T19:09:40.433834Z",
     "shell.execute_reply": "2021-08-16T19:09:40.434240Z",
     "shell.execute_reply.started": "2021-08-16T18:52:16.384305Z"
    },
    "papermill": {
     "duration": 0.047319,
     "end_time": "2021-08-16T19:09:40.434379",
     "exception": false,
     "start_time": "2021-08-16T19:09:40.387060",
     "status": "completed"
    },
    "tags": []
   },
   "outputs": [
    {
     "data": {
      "text/plain": [
       "YrSold        3.481479e-03\n",
       "3SsnPorch     2.448806e-03\n",
       "MiscVal       2.369372e-03\n",
       "Condition2    1.782305e-03\n",
       "BsmtFinSF2    6.437672e-04\n",
       "Utilities     1.887379e-15\n",
       "PoolArea      2.220446e-16\n",
       "Street        0.000000e+00\n",
       "PoolQC        0.000000e+00\n",
       "MoSold        0.000000e+00\n",
       "Name: MI Scores, dtype: float64"
      ]
     },
     "execution_count": 13,
     "metadata": {},
     "output_type": "execute_result"
    }
   ],
   "source": [
    "mi_scores[len(mi_scores)-10:]"
   ]
  },
  {
   "cell_type": "code",
   "execution_count": 14,
   "id": "0723a385",
   "metadata": {
    "execution": {
     "iopub.execute_input": "2021-08-16T19:09:40.513168Z",
     "iopub.status.busy": "2021-08-16T19:09:40.512377Z",
     "iopub.status.idle": "2021-08-16T19:09:40.720258Z",
     "shell.execute_reply": "2021-08-16T19:09:40.720674Z",
     "shell.execute_reply.started": "2021-08-16T18:52:16.394432Z"
    },
    "papermill": {
     "duration": 0.249315,
     "end_time": "2021-08-16T19:09:40.720817",
     "exception": false,
     "start_time": "2021-08-16T19:09:40.471502",
     "status": "completed"
    },
    "tags": []
   },
   "outputs": [
    {
     "data": {
      "text/plain": [
       "<AxesSubplot:xlabel='PoolQC', ylabel='SalePrice'>"
      ]
     },
     "execution_count": 14,
     "metadata": {},
     "output_type": "execute_result"
    },
    {
     "data": {
      "image/png": "[encoded data removed]",
      "text/plain": [
       "<Figure size 432x288 with 1 Axes>"
      ]
     },
     "metadata": {
      "needs_background": "light"
     },
     "output_type": "display_data"
    }
   ],
   "source": [
    "sns.barplot(x = train_df[\"PoolQC\"],y = train_df[\"SalePrice\"])"
   ]
  },
  {
   "cell_type": "code",
   "execution_count": 15,
   "id": "c2db6676",
   "metadata": {
    "execution": {
     "iopub.execute_input": "2021-08-16T19:09:40.817562Z",
     "iopub.status.busy": "2021-08-16T19:09:40.816673Z",
     "iopub.status.idle": "2021-08-16T19:09:40.978703Z",
     "shell.execute_reply": "2021-08-16T19:09:40.979130Z",
     "shell.execute_reply.started": "2021-08-16T18:52:16.770876Z"
    },
    "papermill": {
     "duration": 0.221295,
     "end_time": "2021-08-16T19:09:40.979279",
     "exception": false,
     "start_time": "2021-08-16T19:09:40.757984",
     "status": "completed"
    },
    "tags": []
   },
   "outputs": [
    {
     "data": {
      "text/plain": [
       "<AxesSubplot:xlabel='YrSold', ylabel='SalePrice'>"
      ]
     },
     "execution_count": 15,
     "metadata": {},
     "output_type": "execute_result"
    },
    {
     "data": {
      "image/png": "[encoded data removed]",
      "text/plain": [
       "<Figure size 432x288 with 1 Axes>"
      ]
     },
     "metadata": {
      "needs_background": "light"
     },
     "output_type": "display_data"
    }
   ],
   "source": [
    "sns.scatterplot(x = train_df[\"YrSold\"],y = train_df[\"SalePrice\"])"
   ]
  },
  {
   "cell_type": "code",
   "execution_count": 16,
   "id": "9a3059d8",
   "metadata": {
    "execution": {
     "iopub.execute_input": "2021-08-16T19:09:41.059887Z",
     "iopub.status.busy": "2021-08-16T19:09:41.059126Z",
     "iopub.status.idle": "2021-08-16T19:09:41.388128Z",
     "shell.execute_reply": "2021-08-16T19:09:41.388543Z",
     "shell.execute_reply.started": "2021-08-16T18:52:17.026686Z"
    },
    "papermill": {
     "duration": 0.371063,
     "end_time": "2021-08-16T19:09:41.388691",
     "exception": false,
     "start_time": "2021-08-16T19:09:41.017628",
     "status": "completed"
    },
    "tags": []
   },
   "outputs": [
    {
     "data": {
      "text/plain": [
       "<AxesSubplot:xlabel='Condition2', ylabel='SalePrice'>"
      ]
     },
     "execution_count": 16,
     "metadata": {},
     "output_type": "execute_result"
    },
    {
     "data": {
      "image/png": "[encoded data removed]",
      "text/plain": [
       "<Figure size 432x288 with 1 Axes>"
      ]
     },
     "metadata": {
      "needs_background": "light"
     },
     "output_type": "display_data"
    }
   ],
   "source": [
    "sns.barplot(x = train_df[\"Condition2\"],y = train_df[\"SalePrice\"])"
   ]
  },
  {
   "cell_type": "code",
   "execution_count": 17,
   "id": "847a4209",
   "metadata": {
    "execution": {
     "iopub.execute_input": "2021-08-16T19:09:41.472138Z",
     "iopub.status.busy": "2021-08-16T19:09:41.471336Z",
     "iopub.status.idle": "2021-08-16T19:09:41.988251Z",
     "shell.execute_reply": "2021-08-16T19:09:41.988669Z",
     "shell.execute_reply.started": "2021-08-16T18:52:17.362528Z"
    },
    "papermill": {
     "duration": 0.561098,
     "end_time": "2021-08-16T19:09:41.988813",
     "exception": false,
     "start_time": "2021-08-16T19:09:41.427715",
     "status": "completed"
    },
    "tags": []
   },
   "outputs": [
    {
     "data": {
      "text/plain": [
       "<AxesSubplot:xlabel='MoSold', ylabel='SalePrice'>"
      ]
     },
     "execution_count": 17,
     "metadata": {},
     "output_type": "execute_result"
    },
    {
     "data": {
      "image/png": "[encoded data removed]",
      "text/plain": [
       "<Figure size 432x288 with 1 Axes>"
      ]
     },
     "metadata": {
      "needs_background": "light"
     },
     "output_type": "display_data"
    }
   ],
   "source": [
    "sns.barplot(x = train_df[\"MoSold\"],y = train_df[\"SalePrice\"])"
   ]
  },
  {
   "cell_type": "code",
   "execution_count": 18,
   "id": "137eae22",
   "metadata": {
    "execution": {
     "iopub.execute_input": "2021-08-16T19:09:42.073243Z",
     "iopub.status.busy": "2021-08-16T19:09:42.072414Z",
     "iopub.status.idle": "2021-08-16T19:09:48.070546Z",
     "shell.execute_reply": "2021-08-16T19:09:48.070950Z",
     "shell.execute_reply.started": "2021-08-16T18:52:17.901982Z"
    },
    "papermill": {
     "duration": 6.042573,
     "end_time": "2021-08-16T19:09:48.071124",
     "exception": false,
     "start_time": "2021-08-16T19:09:42.028551",
     "status": "completed"
    },
    "tags": []
   },
   "outputs": [
    {
     "name": "stderr",
     "output_type": "stream",
     "text": [
      "/opt/conda/lib/python3.7/site-packages/seaborn/categorical.py:1296: UserWarning: 75.2% of the points cannot be placed; you may want to decrease the size of the markers or use stripplot.\n",
      "  warnings.warn(msg, UserWarning)\n"
     ]
    },
    {
     "data": {
      "text/plain": [
       "<AxesSubplot:xlabel='Alley', ylabel='SalePrice'>"
      ]
     },
     "execution_count": 18,
     "metadata": {},
     "output_type": "execute_result"
    },
    {
     "data": {
      "image/png": "[encoded data removed]",
      "text/plain": [
       "<Figure size 432x288 with 1 Axes>"
      ]
     },
     "metadata": {
      "needs_background": "light"
     },
     "output_type": "display_data"
    }
   ],
   "source": [
    "t = train_df.copy()\n",
    "t = t.fillna(\"Missing\")\n",
    "sns.swarmplot(x = t[\"Alley\"],y = train_df[\"SalePrice\"])\n"
   ]
  },
  {
   "cell_type": "markdown",
   "id": "a345b8cf",
   "metadata": {
    "papermill": {
     "duration": 0.042411,
     "end_time": "2021-08-16T19:09:48.156179",
     "exception": false,
     "start_time": "2021-08-16T19:09:48.113768",
     "status": "completed"
    },
    "tags": []
   },
   "source": [
    "## Some Features seem to be ok even though it has low MI score lets evaluate our data\n"
   ]
  },
  {
   "cell_type": "code",
   "execution_count": 19,
   "id": "1ff000e1",
   "metadata": {
    "execution": {
     "iopub.execute_input": "2021-08-16T19:09:48.248697Z",
     "iopub.status.busy": "2021-08-16T19:09:48.248064Z",
     "iopub.status.idle": "2021-08-16T19:09:48.250871Z",
     "shell.execute_reply": "2021-08-16T19:09:48.250475Z",
     "shell.execute_reply.started": "2021-08-16T18:52:23.823314Z"
    },
    "papermill": {
     "duration": 0.052234,
     "end_time": "2021-08-16T19:09:48.250983",
     "exception": false,
     "start_time": "2021-08-16T19:09:48.198749",
     "status": "completed"
    },
    "tags": []
   },
   "outputs": [],
   "source": [
    "X_train_full, X_valid_full, y_train, y_valid = train_test_split(X, y, train_size=0.8, test_size=0.2,\n",
    "                                                                random_state=0)"
   ]
  },
  {
   "cell_type": "code",
   "execution_count": 20,
   "id": "6721cb62",
   "metadata": {
    "execution": {
     "iopub.execute_input": "2021-08-16T19:09:48.340653Z",
     "iopub.status.busy": "2021-08-16T19:09:48.339926Z",
     "iopub.status.idle": "2021-08-16T19:09:48.364684Z",
     "shell.execute_reply": "2021-08-16T19:09:48.364160Z",
     "shell.execute_reply.started": "2021-08-16T18:52:23.833345Z"
    },
    "papermill": {
     "duration": 0.071868,
     "end_time": "2021-08-16T19:09:48.364799",
     "exception": false,
     "start_time": "2021-08-16T19:09:48.292931",
     "status": "completed"
    },
    "tags": []
   },
   "outputs": [],
   "source": [
    "from sklearn.ensemble import RandomForestRegressor\n",
    "from sklearn.metrics import mean_absolute_error\n",
    "\n",
    "# Function for comparing different approaches\n",
    "def score_dataset(X_train, X_valid, y_train, y_valid):\n",
    "    model = RandomForestRegressor(n_estimators=100, random_state=0)\n",
    "    model.fit(X_train, y_train)\n",
    "    preds = model.predict(X_valid)\n",
    "    return mean_absolute_error(y_valid, preds)"
   ]
  },
  {
   "cell_type": "code",
   "execution_count": 21,
   "id": "c9fd53a6",
   "metadata": {
    "execution": {
     "iopub.execute_input": "2021-08-16T19:09:48.455262Z",
     "iopub.status.busy": "2021-08-16T19:09:48.454444Z",
     "iopub.status.idle": "2021-08-16T19:09:50.093677Z",
     "shell.execute_reply": "2021-08-16T19:09:50.094281Z",
     "shell.execute_reply.started": "2021-08-16T18:52:23.862875Z"
    },
    "papermill": {
     "duration": 1.687767,
     "end_time": "2021-08-16T19:09:50.094476",
     "exception": false,
     "start_time": "2021-08-16T19:09:48.406709",
     "status": "completed"
    },
    "tags": []
   },
   "outputs": [
    {
     "name": "stdout",
     "output_type": "stream",
     "text": [
      "MAE Score: \n",
      "17821.92582191781\n"
     ]
    }
   ],
   "source": [
    "print(\"MAE Score: \")\n",
    "print(score_dataset(X_train_full, X_valid_full, y_train, y_valid))"
   ]
  },
  {
   "cell_type": "code",
   "execution_count": 22,
   "id": "f16ebac5",
   "metadata": {
    "execution": {
     "iopub.execute_input": "2021-08-16T19:09:50.199604Z",
     "iopub.status.busy": "2021-08-16T19:09:50.198736Z",
     "iopub.status.idle": "2021-08-16T19:09:50.202999Z",
     "shell.execute_reply": "2021-08-16T19:09:50.202596Z",
     "shell.execute_reply.started": "2021-08-16T18:52:25.514016Z"
    },
    "papermill": {
     "duration": 0.063281,
     "end_time": "2021-08-16T19:09:50.203133",
     "exception": false,
     "start_time": "2021-08-16T19:09:50.139852",
     "status": "completed"
    },
    "tags": []
   },
   "outputs": [
    {
     "data": {
      "text/html": [
       "<div>\n",
       "<style scoped>\n",
       "    .dataframe tbody tr th:only-of-type {\n",
       "        vertical-align: middle;\n",
       "    }\n",
       "\n",
       "    .dataframe tbody tr th {\n",
       "        vertical-align: top;\n",
       "    }\n",
       "\n",
       "    .dataframe thead th {\n",
       "        text-align: right;\n",
       "    }\n",
       "</style>\n",
       "<table border=\"1\" class=\"dataframe\">\n",
       "  <thead>\n",
       "    <tr style=\"text-align: right;\">\n",
       "      <th></th>\n",
       "      <th>MSSubClass</th>\n",
       "      <th>MSZoning</th>\n",
       "      <th>LotFrontage</th>\n",
       "      <th>LotArea</th>\n",
       "      <th>Street</th>\n",
       "      <th>Alley</th>\n",
       "      <th>LotShape</th>\n",
       "      <th>LandContour</th>\n",
       "      <th>Utilities</th>\n",
       "      <th>LotConfig</th>\n",
       "      <th>...</th>\n",
       "      <th>ScreenPorch</th>\n",
       "      <th>PoolArea</th>\n",
       "      <th>PoolQC</th>\n",
       "      <th>Fence</th>\n",
       "      <th>MiscFeature</th>\n",
       "      <th>MiscVal</th>\n",
       "      <th>MoSold</th>\n",
       "      <th>YrSold</th>\n",
       "      <th>SaleType</th>\n",
       "      <th>SaleCondition</th>\n",
       "    </tr>\n",
       "    <tr>\n",
       "      <th>Id</th>\n",
       "      <th></th>\n",
       "      <th></th>\n",
       "      <th></th>\n",
       "      <th></th>\n",
       "      <th></th>\n",
       "      <th></th>\n",
       "      <th></th>\n",
       "      <th></th>\n",
       "      <th></th>\n",
       "      <th></th>\n",
       "      <th></th>\n",
       "      <th></th>\n",
       "      <th></th>\n",
       "      <th></th>\n",
       "      <th></th>\n",
       "      <th></th>\n",
       "      <th></th>\n",
       "      <th></th>\n",
       "      <th></th>\n",
       "      <th></th>\n",
       "      <th></th>\n",
       "    </tr>\n",
       "  </thead>\n",
       "  <tbody>\n",
       "    <tr>\n",
       "      <th>619</th>\n",
       "      <td>20</td>\n",
       "      <td>0</td>\n",
       "      <td>48</td>\n",
       "      <td>11694</td>\n",
       "      <td>0</td>\n",
       "      <td>0</td>\n",
       "      <td>0</td>\n",
       "      <td>0</td>\n",
       "      <td>0</td>\n",
       "      <td>0</td>\n",
       "      <td>...</td>\n",
       "      <td>260</td>\n",
       "      <td>0</td>\n",
       "      <td>0</td>\n",
       "      <td>0</td>\n",
       "      <td>0</td>\n",
       "      <td>0</td>\n",
       "      <td>7</td>\n",
       "      <td>2007</td>\n",
       "      <td>1</td>\n",
       "      <td>2</td>\n",
       "    </tr>\n",
       "    <tr>\n",
       "      <th>871</th>\n",
       "      <td>20</td>\n",
       "      <td>0</td>\n",
       "      <td>3</td>\n",
       "      <td>6600</td>\n",
       "      <td>0</td>\n",
       "      <td>0</td>\n",
       "      <td>0</td>\n",
       "      <td>0</td>\n",
       "      <td>0</td>\n",
       "      <td>0</td>\n",
       "      <td>...</td>\n",
       "      <td>0</td>\n",
       "      <td>0</td>\n",
       "      <td>0</td>\n",
       "      <td>0</td>\n",
       "      <td>0</td>\n",
       "      <td>0</td>\n",
       "      <td>8</td>\n",
       "      <td>2009</td>\n",
       "      <td>0</td>\n",
       "      <td>0</td>\n",
       "    </tr>\n",
       "    <tr>\n",
       "      <th>93</th>\n",
       "      <td>30</td>\n",
       "      <td>0</td>\n",
       "      <td>1</td>\n",
       "      <td>13360</td>\n",
       "      <td>0</td>\n",
       "      <td>1</td>\n",
       "      <td>1</td>\n",
       "      <td>3</td>\n",
       "      <td>0</td>\n",
       "      <td>0</td>\n",
       "      <td>...</td>\n",
       "      <td>0</td>\n",
       "      <td>0</td>\n",
       "      <td>0</td>\n",
       "      <td>0</td>\n",
       "      <td>0</td>\n",
       "      <td>0</td>\n",
       "      <td>8</td>\n",
       "      <td>2009</td>\n",
       "      <td>0</td>\n",
       "      <td>0</td>\n",
       "    </tr>\n",
       "    <tr>\n",
       "      <th>818</th>\n",
       "      <td>20</td>\n",
       "      <td>0</td>\n",
       "      <td>7</td>\n",
       "      <td>13265</td>\n",
       "      <td>0</td>\n",
       "      <td>0</td>\n",
       "      <td>1</td>\n",
       "      <td>0</td>\n",
       "      <td>0</td>\n",
       "      <td>3</td>\n",
       "      <td>...</td>\n",
       "      <td>0</td>\n",
       "      <td>0</td>\n",
       "      <td>0</td>\n",
       "      <td>0</td>\n",
       "      <td>0</td>\n",
       "      <td>0</td>\n",
       "      <td>7</td>\n",
       "      <td>2008</td>\n",
       "      <td>0</td>\n",
       "      <td>0</td>\n",
       "    </tr>\n",
       "    <tr>\n",
       "      <th>303</th>\n",
       "      <td>20</td>\n",
       "      <td>0</td>\n",
       "      <td>76</td>\n",
       "      <td>13704</td>\n",
       "      <td>0</td>\n",
       "      <td>0</td>\n",
       "      <td>1</td>\n",
       "      <td>0</td>\n",
       "      <td>0</td>\n",
       "      <td>2</td>\n",
       "      <td>...</td>\n",
       "      <td>0</td>\n",
       "      <td>0</td>\n",
       "      <td>0</td>\n",
       "      <td>0</td>\n",
       "      <td>0</td>\n",
       "      <td>0</td>\n",
       "      <td>1</td>\n",
       "      <td>2006</td>\n",
       "      <td>0</td>\n",
       "      <td>0</td>\n",
       "    </tr>\n",
       "  </tbody>\n",
       "</table>\n",
       "<p>5 rows × 79 columns</p>\n",
       "</div>"
      ],
      "text/plain": [
       "     MSSubClass  MSZoning  LotFrontage  LotArea  Street  Alley  LotShape  \\\n",
       "Id                                                                         \n",
       "619          20         0           48    11694       0      0         0   \n",
       "871          20         0            3     6600       0      0         0   \n",
       "93           30         0            1    13360       0      1         1   \n",
       "818          20         0            7    13265       0      0         1   \n",
       "303          20         0           76    13704       0      0         1   \n",
       "\n",
       "     LandContour  Utilities  LotConfig  ...  ScreenPorch  PoolArea  PoolQC  \\\n",
       "Id                                      ...                                  \n",
       "619            0          0          0  ...          260         0       0   \n",
       "871            0          0          0  ...            0         0       0   \n",
       "93             3          0          0  ...            0         0       0   \n",
       "818            0          0          3  ...            0         0       0   \n",
       "303            0          0          2  ...            0         0       0   \n",
       "\n",
       "     Fence  MiscFeature  MiscVal  MoSold  YrSold  SaleType  SaleCondition  \n",
       "Id                                                                         \n",
       "619      0            0        0       7    2007         1              2  \n",
       "871      0            0        0       8    2009         0              0  \n",
       "93       0            0        0       8    2009         0              0  \n",
       "818      0            0        0       7    2008         0              0  \n",
       "303      0            0        0       1    2006         0              0  \n",
       "\n",
       "[5 rows x 79 columns]"
      ]
     },
     "execution_count": 22,
     "metadata": {},
     "output_type": "execute_result"
    }
   ],
   "source": [
    "X_train_full.head()"
   ]
  },
  {
   "cell_type": "code",
   "execution_count": 23,
   "id": "952eb15c",
   "metadata": {
    "execution": {
     "iopub.execute_input": "2021-08-16T19:09:50.292932Z",
     "iopub.status.busy": "2021-08-16T19:09:50.292429Z",
     "iopub.status.idle": "2021-08-16T19:09:50.336581Z",
     "shell.execute_reply": "2021-08-16T19:09:50.336150Z",
     "shell.execute_reply.started": "2021-08-16T18:52:25.539762Z"
    },
    "papermill": {
     "duration": 0.090599,
     "end_time": "2021-08-16T19:09:50.336695",
     "exception": false,
     "start_time": "2021-08-16T19:09:50.246096",
     "status": "completed"
    },
    "tags": []
   },
   "outputs": [],
   "source": [
    "train_df = pd.read_csv(\"../input/house-prices-advanced-regression-techniques/train.csv\",index_col = \"Id\")\n",
    "test_df = pd.read_csv(\"../input/house-prices-advanced-regression-techniques/test.csv\",index_col = \"Id\")"
   ]
  },
  {
   "cell_type": "code",
   "execution_count": 24,
   "id": "4a64f1a7",
   "metadata": {
    "execution": {
     "iopub.execute_input": "2021-08-16T19:09:50.428567Z",
     "iopub.status.busy": "2021-08-16T19:09:50.427794Z",
     "iopub.status.idle": "2021-08-16T19:09:50.430542Z",
     "shell.execute_reply": "2021-08-16T19:09:50.430126Z",
     "shell.execute_reply.started": "2021-08-16T18:52:25.589848Z"
    },
    "papermill": {
     "duration": 0.05097,
     "end_time": "2021-08-16T19:09:50.430642",
     "exception": false,
     "start_time": "2021-08-16T19:09:50.379672",
     "status": "completed"
    },
    "tags": []
   },
   "outputs": [],
   "source": [
    "def label_encode(df):\n",
    "    X = df.copy()\n",
    "    for name in df.select_dtypes(\"number\"):\n",
    "        X[name] = X[name].fillna(0)\n",
    "    for name in df.select_dtypes(\"category\"):\n",
    "        X[name] = X[name].fillna(\"None\")\n",
    "        \n",
    "    for colname in X.select_dtypes(\"object\"):\n",
    "        X[colname], _ = X[colname].factorize()\n",
    "        \n",
    "    \n",
    "    \n",
    "    for colname in X.select_dtypes([\"category\"]):\n",
    "        X[colname] = X[colname].cat.codes\n",
    "        \n",
    "    return X"
   ]
  },
  {
   "cell_type": "code",
   "execution_count": 25,
   "id": "df3e05f3",
   "metadata": {
    "execution": {
     "iopub.execute_input": "2021-08-16T19:09:50.522438Z",
     "iopub.status.busy": "2021-08-16T19:09:50.521691Z",
     "iopub.status.idle": "2021-08-16T19:09:50.524429Z",
     "shell.execute_reply": "2021-08-16T19:09:50.523992Z",
     "shell.execute_reply.started": "2021-08-16T18:52:25.598308Z"
    },
    "papermill": {
     "duration": 0.050989,
     "end_time": "2021-08-16T19:09:50.524540",
     "exception": false,
     "start_time": "2021-08-16T19:09:50.473551",
     "status": "completed"
    },
    "tags": []
   },
   "outputs": [],
   "source": [
    "def pca_function(X):\n",
    "    X = (X - X.mean(axis=0)) / X.std(axis=0)\n",
    "\n",
    "    pca = PCA()\n",
    "    X_pca = pca.fit_transform(X)\n",
    "    component_names = [f\"PC{i+1}\" for i in range(X_pca.shape[1])]\n",
    "    X_pca = pd.DataFrame(X_pca, columns=component_names)\n",
    "\n",
    "    loadings = pd.DataFrame(\n",
    "        pca.components_.T,  # transpose the matrix of loadings\n",
    "        columns=component_names,  # so the columns are the principal components\n",
    "        index=X.columns,  # and the rows are the original features\n",
    "    )\n",
    "    return pca , X_pca , loadings"
   ]
  },
  {
   "cell_type": "code",
   "execution_count": 26,
   "id": "b8aceb2a",
   "metadata": {
    "execution": {
     "iopub.execute_input": "2021-08-16T19:09:50.619080Z",
     "iopub.status.busy": "2021-08-16T19:09:50.618332Z",
     "iopub.status.idle": "2021-08-16T19:09:50.620536Z",
     "shell.execute_reply": "2021-08-16T19:09:50.620939Z",
     "shell.execute_reply.started": "2021-08-16T18:52:25.608503Z"
    },
    "papermill": {
     "duration": 0.054145,
     "end_time": "2021-08-16T19:09:50.621075",
     "exception": false,
     "start_time": "2021-08-16T19:09:50.566930",
     "status": "completed"
    },
    "tags": []
   },
   "outputs": [],
   "source": [
    "class CrossFoldEncoder:\n",
    "    def __init__(self, encoder, **kwargs):\n",
    "        self.encoder_ = encoder\n",
    "        self.kwargs_ = kwargs  \n",
    "        self.cv_ = KFold(n_splits=5)\n",
    "\n",
    "   \n",
    "    def fit_transform(self, X, y, cols):\n",
    "        self.fitted_encoders_ = []\n",
    "        self.cols_ = cols\n",
    "        X_encoded = []\n",
    "        for idx_encode, idx_train in self.cv_.split(X):\n",
    "            fitted_encoder = self.encoder_(cols=cols, **self.kwargs_)\n",
    "            fitted_encoder.fit(\n",
    "                X.iloc[idx_encode, :], y.iloc[idx_encode],\n",
    "            )\n",
    "            X_encoded.append(fitted_encoder.transform(X.iloc[idx_train, :])[cols])\n",
    "            self.fitted_encoders_.append(fitted_encoder)\n",
    "        X_encoded = pd.concat(X_encoded)\n",
    "        X_encoded.columns = [name + \"_encoded\" for name in X_encoded.columns]\n",
    "        return X_encoded\n",
    "\n",
    "    # To transform the test data, average the encodings learned from\n",
    "    # each fold.\n",
    "    def transform(self, X):\n",
    "        from functools import reduce\n",
    "\n",
    "        X_encoded_list = []\n",
    "        for fitted_encoder in self.fitted_encoders_:\n",
    "            X_encoded = fitted_encoder.transform(X)\n",
    "            X_encoded_list.append(X_encoded[self.cols_])\n",
    "        X_encoded = reduce(\n",
    "            lambda x, y: x.add(y, fill_value=0), X_encoded_list\n",
    "        ) / len(X_encoded_list)\n",
    "        X_encoded.columns = [name + \"_encoded\" for name in X_encoded.columns]\n",
    "        return X_encoded"
   ]
  },
  {
   "cell_type": "code",
   "execution_count": 27,
   "id": "835ab17b",
   "metadata": {
    "execution": {
     "iopub.execute_input": "2021-08-16T19:09:50.712821Z",
     "iopub.status.busy": "2021-08-16T19:09:50.712106Z",
     "iopub.status.idle": "2021-08-16T19:09:50.714758Z",
     "shell.execute_reply": "2021-08-16T19:09:50.714358Z",
     "shell.execute_reply.started": "2021-08-16T18:52:25.621390Z"
    },
    "papermill": {
     "duration": 0.051412,
     "end_time": "2021-08-16T19:09:50.714863",
     "exception": false,
     "start_time": "2021-08-16T19:09:50.663451",
     "status": "completed"
    },
    "tags": []
   },
   "outputs": [],
   "source": [
    "def create_features(train_df , test_df):\n",
    "    X = train_df.copy()\n",
    "    y = X.pop(\"SalePrice\")\n",
    "    \n",
    "    \n",
    "    X_test = test_df.copy()\n",
    "    \n",
    "    X = pd.concat([X, test_df])\n",
    "    \n",
    "    X = label_encode(X)\n",
    "   \n",
    "    pca , X_pca , loadings = pca_function(X)\n",
    "    X[\"PC1\"] = X_pca[\"PC1\"]\n",
    "    X[\"PC2\"] = X_pca[\"PC2\"]\n",
    "    X[\"PC5\"] = X_pca[\"PC5\"]\n",
    "    \n",
    "    X_test = X.loc[test_df.index, :]\n",
    "    X.drop(test_df.index, inplace=True)\n",
    "    \n",
    "    encoder = CrossFoldEncoder(MEstimateEncoder, m=1)\n",
    "    \n",
    "    X = X.join(encoder.fit_transform(X, y, cols=[\"Neighborhood\"]))\n",
    "    X_test = X_test.join(encoder.transform(X_test))\n",
    "    \n",
    "    return X, X_test"
   ]
  },
  {
   "cell_type": "code",
   "execution_count": 28,
   "id": "3cdee911",
   "metadata": {
    "execution": {
     "iopub.execute_input": "2021-08-16T19:09:50.806699Z",
     "iopub.status.busy": "2021-08-16T19:09:50.805781Z",
     "iopub.status.idle": "2021-08-16T19:09:50.808409Z",
     "shell.execute_reply": "2021-08-16T19:09:50.807975Z",
     "shell.execute_reply.started": "2021-08-16T18:52:25.632932Z"
    },
    "papermill": {
     "duration": 0.051086,
     "end_time": "2021-08-16T19:09:50.808531",
     "exception": false,
     "start_time": "2021-08-16T19:09:50.757445",
     "status": "completed"
    },
    "tags": []
   },
   "outputs": [],
   "source": [
    "def score_dataset(X, y, model=XGBRegressor()):\n",
    "  \n",
    "    for colname in X.select_dtypes([\"category\"]):\n",
    "        X[colname] = X[colname].cat.codes\n",
    "    log_y = np.log(y)\n",
    "    score = cross_val_score(\n",
    "        model, X, log_y, cv=5, scoring=\"neg_mean_squared_error\",\n",
    "    )\n",
    "    score = -1 * score.mean()\n",
    "    score = np.sqrt(score)\n",
    "    return score"
   ]
  },
  {
   "cell_type": "code",
   "execution_count": 29,
   "id": "1bba9cbd",
   "metadata": {
    "execution": {
     "iopub.execute_input": "2021-08-16T19:09:50.902366Z",
     "iopub.status.busy": "2021-08-16T19:09:50.901460Z",
     "iopub.status.idle": "2021-08-16T19:09:55.486524Z",
     "shell.execute_reply": "2021-08-16T19:09:55.487347Z",
     "shell.execute_reply.started": "2021-08-16T18:52:25.642797Z"
    },
    "papermill": {
     "duration": 4.63407,
     "end_time": "2021-08-16T19:09:55.487540",
     "exception": false,
     "start_time": "2021-08-16T19:09:50.853470",
     "status": "completed"
    },
    "tags": []
   },
   "outputs": [
    {
     "name": "stderr",
     "output_type": "stream",
     "text": [
      "/opt/conda/lib/python3.7/site-packages/category_encoders/utils.py:21: FutureWarning: is_categorical is deprecated and will be removed in a future version.  Use is_categorical_dtype instead\n",
      "  elif pd.api.types.is_categorical(cols):\n"
     ]
    },
    {
     "data": {
      "text/plain": [
       "0.14329210445060384"
      ]
     },
     "execution_count": 29,
     "metadata": {},
     "output_type": "execute_result"
    }
   ],
   "source": [
    "#train_df, test_df = load_data()\n",
    "\n",
    "X_train , X_test = create_features(train_df,test_df)\n",
    "#print(X_train.head())\n",
    "y_train = train_df.loc[:, \"SalePrice\"]\n",
    "\n",
    "score_dataset(X_train, y_train)"
   ]
  },
  {
   "cell_type": "code",
   "execution_count": 30,
   "id": "249ac143",
   "metadata": {
    "execution": {
     "iopub.execute_input": "2021-08-16T19:09:55.584758Z",
     "iopub.status.busy": "2021-08-16T19:09:55.583890Z",
     "iopub.status.idle": "2021-08-16T19:10:15.988907Z",
     "shell.execute_reply": "2021-08-16T19:10:15.989663Z",
     "shell.execute_reply.started": "2021-08-16T18:53:17.171332Z"
    },
    "papermill": {
     "duration": 20.456153,
     "end_time": "2021-08-16T19:10:15.989838",
     "exception": false,
     "start_time": "2021-08-16T19:09:55.533685",
     "status": "completed"
    },
    "tags": []
   },
   "outputs": [
    {
     "name": "stderr",
     "output_type": "stream",
     "text": [
      "/opt/conda/lib/python3.7/site-packages/category_encoders/utils.py:21: FutureWarning: is_categorical is deprecated and will be removed in a future version.  Use is_categorical_dtype instead\n",
      "  elif pd.api.types.is_categorical(cols):\n"
     ]
    },
    {
     "data": {
      "text/plain": [
       "0.12819481019338239"
      ]
     },
     "execution_count": 30,
     "metadata": {},
     "output_type": "execute_result"
    }
   ],
   "source": [
    "X_train ,X_test = create_features(train_df , test_df)\n",
    "y_train = train_df.loc[:, \"SalePrice\"]\n",
    "\n",
    "xgb_params = dict(\n",
    "    max_depth=6,           # maximum depth of each tree - try 2 to 10\n",
    "    learning_rate=0.01,    # effect of each tree - try 0.0001 to 0.1\n",
    "    n_estimators=1000,     # number of trees (that is, boosting rounds) - try 1000 to 8000\n",
    "    min_child_weight=1,    # minimum number of houses in a leaf - try 1 to 10\n",
    "    colsample_bytree=0.7,  # fraction of features (columns) per tree - try 0.2 to 1.0\n",
    "    subsample=0.7,         # fraction of instances (rows) per tree - try 0.2 to 1.0\n",
    "    reg_alpha=0.5,         # L1 regularization (like LASSO) - try 0.0 to 10.0\n",
    "    reg_lambda=1.0,        # L2 regularization (like Ridge) - try 0.0 to 10.0\n",
    "    num_parallel_tree=1,   # set > 1 for boosted random forests\n",
    "    gpu_id = 0,\n",
    ")\n",
    "\n",
    "xgb = XGBRegressor(**xgb_params)\n",
    "score_dataset(X_train, y_train, xgb)"
   ]
  },
  {
   "cell_type": "code",
   "execution_count": 31,
   "id": "dfce1398",
   "metadata": {
    "execution": {
     "iopub.execute_input": "2021-08-16T19:10:16.088160Z",
     "iopub.status.busy": "2021-08-16T19:10:16.087396Z",
     "iopub.status.idle": "2021-08-16T19:12:47.580929Z",
     "shell.execute_reply": "2021-08-16T19:12:47.581419Z",
     "shell.execute_reply.started": "2021-08-16T18:53:37.761523Z"
    },
    "papermill": {
     "duration": 151.545712,
     "end_time": "2021-08-16T19:12:47.581591",
     "exception": false,
     "start_time": "2021-08-16T19:10:16.035879",
     "status": "completed"
    },
    "tags": []
   },
   "outputs": [
    {
     "name": "stderr",
     "output_type": "stream",
     "text": [
      "\u001b[32m[I 2021-08-16 19:10:16,085]\u001b[0m A new study created in memory with name: no-name-89451541-e133-4666-9561-5dc7cc58bd59\u001b[0m\n",
      "\u001b[32m[I 2021-08-16 19:10:31,477]\u001b[0m Trial 0 finished with value: 0.12680588597624062 and parameters: {'max_depth': 7, 'learning_rate': 0.07803234165965593, 'n_estimators': 1526, 'min_child_weight': 4, 'colsample_bytree': 0.30403264062842744, 'subsample': 0.6286443074173707, 'reg_alpha': 0.00031381080280975425, 'reg_lambda': 0.00043645470781242534}. Best is trial 0 with value: 0.12680588597624062.\u001b[0m\n",
      "\u001b[32m[I 2021-08-16 19:11:19,667]\u001b[0m Trial 1 finished with value: 2.4526782970570413 and parameters: {'max_depth': 7, 'learning_rate': 0.00020356800347467064, 'n_estimators': 7810, 'min_child_weight': 10, 'colsample_bytree': 0.7733611200915897, 'subsample': 0.5238066318318986, 'reg_alpha': 0.0005676012104291944, 'reg_lambda': 11.492269095783685}. Best is trial 0 with value: 0.12680588597624062.\u001b[0m\n",
      "\u001b[32m[I 2021-08-16 19:12:04,029]\u001b[0m Trial 2 finished with value: 0.12480163114163324 and parameters: {'max_depth': 10, 'learning_rate': 0.039325816324297096, 'n_estimators': 2916, 'min_child_weight': 3, 'colsample_bytree': 0.4127714310851551, 'subsample': 0.538234510318631, 'reg_alpha': 0.023065070769327976, 'reg_lambda': 0.0006012471328735346}. Best is trial 2 with value: 0.12480163114163324.\u001b[0m\n",
      "\u001b[32m[I 2021-08-16 19:12:29,970]\u001b[0m Trial 3 finished with value: 0.23873805799735254 and parameters: {'max_depth': 5, 'learning_rate': 0.0059890682702346655, 'n_estimators': 4000, 'min_child_weight': 6, 'colsample_bytree': 0.6787886476694425, 'subsample': 0.2533155557326776, 'reg_alpha': 28.284073218116667, 'reg_lambda': 0.0011978565372406695}. Best is trial 2 with value: 0.12480163114163324.\u001b[0m\n",
      "\u001b[32m[I 2021-08-16 19:12:47,526]\u001b[0m Trial 4 finished with value: 0.5965476832590709 and parameters: {'max_depth': 2, 'learning_rate': 0.0010271178573655038, 'n_estimators': 3255, 'min_child_weight': 7, 'colsample_bytree': 0.380422384258478, 'subsample': 0.44954766709167515, 'reg_alpha': 21.129111341910814, 'reg_lambda': 11.912159109018038}. Best is trial 2 with value: 0.12480163114163324.\u001b[0m\n"
     ]
    }
   ],
   "source": [
    "import optuna\n",
    "\n",
    "def objective(trial):\n",
    "    xgb_params = dict(\n",
    "        max_depth=trial.suggest_int(\"max_depth\", 2, 10),\n",
    "        learning_rate=trial.suggest_float(\"learning_rate\", 1e-4, 1e-1, log=True),\n",
    "        n_estimators=trial.suggest_int(\"n_estimators\", 1000, 8000),\n",
    "        min_child_weight=trial.suggest_int(\"min_child_weight\", 1, 10),\n",
    "        colsample_bytree=trial.suggest_float(\"colsample_bytree\", 0.2, 1.0),\n",
    "        subsample=trial.suggest_float(\"subsample\", 0.2, 1.0),\n",
    "        reg_alpha=trial.suggest_float(\"reg_alpha\", 1e-4, 1e2, log=True),\n",
    "        reg_lambda=trial.suggest_float(\"reg_lambda\", 1e-4, 1e2, log=True),\n",
    "    )\n",
    "    xgb = XGBRegressor(**xgb_params)\n",
    "    return score_dataset(X_train, y_train, xgb)\n",
    "\n",
    "study = optuna.create_study(direction=\"minimize\")\n",
    "study.optimize(objective, n_trials=5)\n",
    "xgb_params = study.best_params"
   ]
  },
  {
   "cell_type": "code",
   "execution_count": 32,
   "id": "42a624e6",
   "metadata": {
    "execution": {
     "iopub.execute_input": "2021-08-16T19:12:47.679691Z",
     "iopub.status.busy": "2021-08-16T19:12:47.678869Z",
     "iopub.status.idle": "2021-08-16T19:12:58.639566Z",
     "shell.execute_reply": "2021-08-16T19:12:58.640342Z",
     "shell.execute_reply.started": "2021-08-16T19:08:39.575227Z"
    },
    "papermill": {
     "duration": 11.013389,
     "end_time": "2021-08-16T19:12:58.640503",
     "exception": false,
     "start_time": "2021-08-16T19:12:47.627114",
     "status": "completed"
    },
    "tags": []
   },
   "outputs": [
    {
     "name": "stderr",
     "output_type": "stream",
     "text": [
      "/opt/conda/lib/python3.7/site-packages/category_encoders/utils.py:21: FutureWarning: is_categorical is deprecated and will be removed in a future version.  Use is_categorical_dtype instead\n",
      "  elif pd.api.types.is_categorical(cols):\n"
     ]
    },
    {
     "name": "stdout",
     "output_type": "stream",
     "text": [
      "Your submission was successfully saved!\n"
     ]
    }
   ],
   "source": [
    "X_train ,X_test = create_features(train_df , test_df)\n",
    "y_train = train_df.loc[:, \"SalePrice\"]\n",
    "\n",
    "xgb = XGBRegressor(**xgb_params)\n",
    "\n",
    "xgb.fit(X_train, np.log(y))\n",
    "predictions = np.exp(xgb.predict(X_test))\n",
    "output = pd.DataFrame({'Id': X_test.index, 'SalePrice': predictions})\n",
    "output.to_csv('my_submission.csv', index=False)\n",
    "print(\"Your submission was successfully saved!\")"
   ]
  },
  {
   "cell_type": "code",
   "execution_count": null,
   "id": "6253d871",
   "metadata": {
    "execution": {
     "iopub.execute_input": "2021-08-16T19:01:05.531314Z",
     "iopub.status.busy": "2021-08-16T19:01:05.530958Z",
     "iopub.status.idle": "2021-08-16T19:01:42.289370Z",
     "shell.execute_reply": "2021-08-16T19:01:42.288477Z",
     "shell.execute_reply.started": "2021-08-16T19:01:05.531282Z"
    },
    "papermill": {
     "duration": 0.045792,
     "end_time": "2021-08-16T19:12:58.732763",
     "exception": false,
     "start_time": "2021-08-16T19:12:58.686971",
     "status": "completed"
    },
    "tags": []
   },
   "outputs": [],
   "source": []
  },
  {
   "cell_type": "code",
   "execution_count": null,
   "id": "47d993fb",
   "metadata": {
    "execution": {
     "iopub.execute_input": "2021-08-16T19:07:09.112290Z",
     "iopub.status.busy": "2021-08-16T19:07:09.111918Z",
     "iopub.status.idle": "2021-08-16T19:07:09.849597Z",
     "shell.execute_reply": "2021-08-16T19:07:09.841467Z",
     "shell.execute_reply.started": "2021-08-16T19:07:09.112256Z"
    },
    "papermill": {
     "duration": 0.04638,
     "end_time": "2021-08-16T19:12:58.825244",
     "exception": false,
     "start_time": "2021-08-16T19:12:58.778864",
     "status": "completed"
    },
    "tags": []
   },
   "outputs": [],
   "source": []
  },
  {
   "cell_type": "code",
   "execution_count": null,
   "id": "a10debd8",
   "metadata": {
    "papermill": {
     "duration": 0.046594,
     "end_time": "2021-08-16T19:12:58.918802",
     "exception": false,
     "start_time": "2021-08-16T19:12:58.872208",
     "status": "completed"
    },
    "tags": []
   },
   "outputs": [],
   "source": []
  },
  {
   "cell_type": "code",
   "execution_count": null,
   "id": "2acfbc25",
   "metadata": {
    "papermill": {
     "duration": 0.045692,
     "end_time": "2021-08-16T19:12:59.011070",
     "exception": false,
     "start_time": "2021-08-16T19:12:58.965378",
     "status": "completed"
    },
    "tags": []
   },
   "outputs": [],
   "source": []
  },
  {
   "cell_type": "code",
   "execution_count": null,
   "id": "628bd5b3",
   "metadata": {
    "papermill": {
     "duration": 0.045611,
     "end_time": "2021-08-16T19:12:59.103134",
     "exception": false,
     "start_time": "2021-08-16T19:12:59.057523",
     "status": "completed"
    },
    "tags": []
   },
   "outputs": [],
   "source": []
  }
 ],
 "metadata": {
  "kernelspec": {
   "display_name": "Python 3",
   "language": "python",
   "name": "python3"
  },
  "language_info": {
   "codemirror_mode": {
    "name": "ipython",
    "version": 3
   },
   "file_extension": ".py",
   "mimetype": "text/x-python",
   "name": "python",
   "nbconvert_exporter": "python",
   "pygments_lexer": "ipython3",
   "version": "3.7.10"
  },
  "papermill": {
   "default_parameters": {},
   "duration": 214.704569,
   "end_time": "2021-08-16T19:13:01.133659",
   "environment_variables": {},
   "exception": null,
   "input_path": "__notebook__.ipynb",
   "output_path": "__notebook__.ipynb",
   "parameters": {},
   "start_time": "2021-08-16T19:09:26.429090",
   "version": "2.3.3"
  }
 },
 "nbformat": 4,
 "nbformat_minor": 5
}
